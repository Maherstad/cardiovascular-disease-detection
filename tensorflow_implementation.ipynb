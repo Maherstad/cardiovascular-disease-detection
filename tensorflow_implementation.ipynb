{
 "cells": [
  {
   "cell_type": "code",
   "execution_count": null,
   "id": "d631dc68-f032-46d9-8978-aeecdab921e9",
   "metadata": {},
   "outputs": [],
   "source": [
    "#to-do : refactor the code with pytorch instead of tensorflow"
   ]
  },
  {
   "cell_type": "code",
   "execution_count": 2,
   "id": "34436292",
   "metadata": {},
   "outputs": [],
   "source": [
    "#general\n",
    "import pandas as pd\n",
    "import numpy as np\n",
    "import tensorflow as tf\n",
    "import wandb\n",
    "import torch\n",
    "from wandb.keras import WandbCallback\n",
    "\n",
    "# EDA\n",
    "from pandas_profiling import ProfileReport\n",
    "import matplotlib.pyplot as plt\n",
    "\n",
    "#preprocessing\n",
    "from sklearn.model_selection import train_test_split\n",
    "from sklearn.compose import ColumnTransformer\n",
    "from sklearn.preprocessing import StandardScaler\n",
    "\n",
    "#feature engineering and data augmentation\n",
    "#from tabgan.sampler import OriginalGenerator, GANGenerator\n",
    "\n",
    "#modelling\n",
    "from tensorflow.keras.models import Sequential, load_model\n",
    "from tensorflow.keras.layers import Activation,Dense, Dropout, BatchNormalization, LeakyReLU\n",
    "from tensorflow.keras.activations import elu\n",
    "from tensorflow.keras.optimizers import Adam, RMSprop, SGD\n",
    "from tensorflow.keras.losses import BinaryCrossentropy\n",
    "from tensorflow.keras.optimizers.schedules import CosineDecay\n",
    "from tensorflow_addons.optimizers import RectifiedAdam\n",
    "from sklearn.metrics import accuracy_score"
   ]
  },
  {
   "cell_type": "code",
   "execution_count": 3,
   "id": "b2fe5b41",
   "metadata": {},
   "outputs": [],
   "source": [
    "df= pd.read_csv('./cardio_train.csv',delimiter=';')"
   ]
  },
  {
   "cell_type": "markdown",
   "id": "182185cf-528f-481e-9b61-7ddcad6fe75a",
   "metadata": {},
   "source": [
    "# EDA "
   ]
  },
  {
   "cell_type": "code",
   "execution_count": 4,
   "id": "0f91229c",
   "metadata": {},
   "outputs": [
    {
     "data": {
      "text/html": [
       "<div>\n",
       "<style scoped>\n",
       "    .dataframe tbody tr th:only-of-type {\n",
       "        vertical-align: middle;\n",
       "    }\n",
       "\n",
       "    .dataframe tbody tr th {\n",
       "        vertical-align: top;\n",
       "    }\n",
       "\n",
       "    .dataframe thead th {\n",
       "        text-align: right;\n",
       "    }\n",
       "</style>\n",
       "<table border=\"1\" class=\"dataframe\">\n",
       "  <thead>\n",
       "    <tr style=\"text-align: right;\">\n",
       "      <th></th>\n",
       "      <th>id</th>\n",
       "      <th>age</th>\n",
       "      <th>gender</th>\n",
       "      <th>height</th>\n",
       "      <th>weight</th>\n",
       "      <th>ap_hi</th>\n",
       "      <th>ap_lo</th>\n",
       "      <th>cholesterol</th>\n",
       "      <th>gluc</th>\n",
       "      <th>smoke</th>\n",
       "      <th>alco</th>\n",
       "      <th>active</th>\n",
       "      <th>cardio</th>\n",
       "    </tr>\n",
       "  </thead>\n",
       "  <tbody>\n",
       "    <tr>\n",
       "      <th>0</th>\n",
       "      <td>0</td>\n",
       "      <td>18393</td>\n",
       "      <td>2</td>\n",
       "      <td>168</td>\n",
       "      <td>62.0</td>\n",
       "      <td>110</td>\n",
       "      <td>80</td>\n",
       "      <td>1</td>\n",
       "      <td>1</td>\n",
       "      <td>0</td>\n",
       "      <td>0</td>\n",
       "      <td>1</td>\n",
       "      <td>0</td>\n",
       "    </tr>\n",
       "    <tr>\n",
       "      <th>1</th>\n",
       "      <td>1</td>\n",
       "      <td>20228</td>\n",
       "      <td>1</td>\n",
       "      <td>156</td>\n",
       "      <td>85.0</td>\n",
       "      <td>140</td>\n",
       "      <td>90</td>\n",
       "      <td>3</td>\n",
       "      <td>1</td>\n",
       "      <td>0</td>\n",
       "      <td>0</td>\n",
       "      <td>1</td>\n",
       "      <td>1</td>\n",
       "    </tr>\n",
       "    <tr>\n",
       "      <th>2</th>\n",
       "      <td>2</td>\n",
       "      <td>18857</td>\n",
       "      <td>1</td>\n",
       "      <td>165</td>\n",
       "      <td>64.0</td>\n",
       "      <td>130</td>\n",
       "      <td>70</td>\n",
       "      <td>3</td>\n",
       "      <td>1</td>\n",
       "      <td>0</td>\n",
       "      <td>0</td>\n",
       "      <td>0</td>\n",
       "      <td>1</td>\n",
       "    </tr>\n",
       "    <tr>\n",
       "      <th>3</th>\n",
       "      <td>3</td>\n",
       "      <td>17623</td>\n",
       "      <td>2</td>\n",
       "      <td>169</td>\n",
       "      <td>82.0</td>\n",
       "      <td>150</td>\n",
       "      <td>100</td>\n",
       "      <td>1</td>\n",
       "      <td>1</td>\n",
       "      <td>0</td>\n",
       "      <td>0</td>\n",
       "      <td>1</td>\n",
       "      <td>1</td>\n",
       "    </tr>\n",
       "    <tr>\n",
       "      <th>4</th>\n",
       "      <td>4</td>\n",
       "      <td>17474</td>\n",
       "      <td>1</td>\n",
       "      <td>156</td>\n",
       "      <td>56.0</td>\n",
       "      <td>100</td>\n",
       "      <td>60</td>\n",
       "      <td>1</td>\n",
       "      <td>1</td>\n",
       "      <td>0</td>\n",
       "      <td>0</td>\n",
       "      <td>0</td>\n",
       "      <td>0</td>\n",
       "    </tr>\n",
       "  </tbody>\n",
       "</table>\n",
       "</div>"
      ],
      "text/plain": [
       "   id    age  gender  height  weight  ap_hi  ap_lo  cholesterol  gluc  smoke  \\\n",
       "0   0  18393       2     168    62.0    110     80            1     1      0   \n",
       "1   1  20228       1     156    85.0    140     90            3     1      0   \n",
       "2   2  18857       1     165    64.0    130     70            3     1      0   \n",
       "3   3  17623       2     169    82.0    150    100            1     1      0   \n",
       "4   4  17474       1     156    56.0    100     60            1     1      0   \n",
       "\n",
       "   alco  active  cardio  \n",
       "0     0       1       0  \n",
       "1     0       1       1  \n",
       "2     0       0       1  \n",
       "3     0       1       1  \n",
       "4     0       0       0  "
      ]
     },
     "execution_count": 4,
     "metadata": {},
     "output_type": "execute_result"
    }
   ],
   "source": [
    "df.head()"
   ]
  },
  {
   "cell_type": "code",
   "execution_count": 24,
   "id": "07d842b2-c52d-4585-8360-2eabf61e40ad",
   "metadata": {},
   "outputs": [
    {
     "name": "stdout",
     "output_type": "stream",
     "text": [
      "<class 'pandas.core.frame.DataFrame'>\n",
      "RangeIndex: 70000 entries, 0 to 69999\n",
      "Data columns (total 13 columns):\n",
      " #   Column       Non-Null Count  Dtype  \n",
      "---  ------       --------------  -----  \n",
      " 0   id           70000 non-null  int64  \n",
      " 1   age          70000 non-null  int64  \n",
      " 2   gender       70000 non-null  int64  \n",
      " 3   height       70000 non-null  int64  \n",
      " 4   weight       70000 non-null  float64\n",
      " 5   ap_hi        70000 non-null  int64  \n",
      " 6   ap_lo        70000 non-null  int64  \n",
      " 7   cholesterol  70000 non-null  int64  \n",
      " 8   gluc         70000 non-null  int64  \n",
      " 9   smoke        70000 non-null  int64  \n",
      " 10  alco         70000 non-null  int64  \n",
      " 11  active       70000 non-null  int64  \n",
      " 12  cardio       70000 non-null  int64  \n",
      "dtypes: float64(1), int64(12)\n",
      "memory usage: 6.9 MB\n"
     ]
    }
   ],
   "source": [
    "df.info()"
   ]
  },
  {
   "cell_type": "code",
   "execution_count": 25,
   "id": "fb9880d8-7b9c-4836-927e-e8a8c59a583c",
   "metadata": {
    "tags": []
   },
   "outputs": [
    {
     "data": {
      "image/png": "[encoded data removed]",
      "text/plain": [
       "<Figure size 720x504 with 1 Axes>"
      ]
     },
     "metadata": {
      "needs_background": "light"
     },
     "output_type": "display_data"
    }
   ],
   "source": [
    " # Creating dataset\n",
    "fig = plt.figure(figsize =(10, 7))\n",
    " \n",
    "# Creating plot\n",
    "plt.boxplot(df.iloc[:,0:7])\n",
    " \n",
    "# show plot\n",
    "plt.show()"
   ]
  },
  {
   "cell_type": "code",
   "execution_count": 26,
   "id": "2d26d871-215b-4dc4-8173-c5bb4b17ddd3",
   "metadata": {
    "tags": []
   },
   "outputs": [],
   "source": [
    "#profile = ProfileReport(df)\n",
    "#profile"
   ]
  },
  {
   "cell_type": "markdown",
   "id": "0ee0ecda-13df-4095-927d-b68d07fa1356",
   "metadata": {},
   "source": [
    "# Preprocessing"
   ]
  },
  {
   "cell_type": "code",
   "execution_count": 8,
   "id": "c541fbfb-502c-4153-9329-5127df221bfe",
   "metadata": {},
   "outputs": [],
   "source": [
    "columns_to_drop=['id'] #due to high cardinality\n",
    "\n",
    "categorical_columns=['gender','cholesterol', 'gluc', 'smoke', 'alco', 'active']\n",
    "\n",
    "continuous_value_columns=['age','height','weight','ap_hi','ap_lo','cardio']\n"
   ]
  },
  {
   "cell_type": "code",
   "execution_count": 9,
   "id": "03c3f58d-cefd-49e3-aacf-e388ed1fb09e",
   "metadata": {},
   "outputs": [],
   "source": [
    "def preprocessing_p1(df):\n",
    "    \n",
    "    #drop id due to high cardinality (id doesn't play a rule since it's arbitrarily assigned)\n",
    "    try:\n",
    "        df=df.drop('id', axis=1)\n",
    "    except:\n",
    "        pass\n",
    "    \n",
    "    #divide age, which is given in days, by 365 to get the year value\n",
    "    df['age'] = np.round(df['age']/365.25,decimals=2)\n",
    "    \n",
    "    #it does not make sense to have gender repersented as 1,2 since the nn would see 2 as bigger (or has more value) than 1\n",
    "    #we'll change gender into a binary column \n",
    "    df['gender'] = df['gender'].replace(2,0)\n",
    "    \n",
    "    #drop outliers in height and weight\n",
    "    df.drop(df[(df['height'] > df['height'].quantile(0.975)) | (df['height'] < df['height'].quantile(0.025))].index,inplace=True)\n",
    "    df.drop(df[(df['weight'] > df['weight'].quantile(0.975)) | (df['weight'] < df['weight'].quantile(0.025))].index,inplace=True)\n",
    "    \n",
    "    #drop outliers in ap_hi and ap_lo \n",
    "    df.drop(df[(df['ap_hi'] > df['ap_hi'].quantile(0.975)) | (df['ap_hi'] < df['ap_hi'].quantile(0.025))].index,inplace=True)\n",
    "    df.drop(df[(df['ap_lo'] > df['ap_lo'].quantile(0.975)) | (df['ap_lo'] < df['ap_lo'].quantile(0.025))].index,inplace=True)\n",
    "    \n",
    "    #we could've converted the BMI into a categorical column but we opted out of that since continuous values have\n",
    "    #a richer value as an input to the the neural network.    \n",
    "    df['bmi'] = df['weight'] / (( df['height'] / 100) ** 2)\n",
    "    \n",
    "    # at the end we want to drop all duplicate rows\n",
    "    df.drop_duplicates(inplace=True)\n",
    "    \n",
    "    return df "
   ]
  },
  {
   "cell_type": "code",
   "execution_count": null,
   "id": "f27a696c-7076-48ea-8d4c-c3047aa2ab87",
   "metadata": {
    "jupyter": {
     "source_hidden": true
    },
    "tags": []
   },
   "outputs": [],
   "source": [
    "# the metadata of the dataset doesn't say which number is assigned to which gender, so we'll assume the gender with higher avg height is the male \n",
    "# (we'll take the age to confirm our assumption (avg age for women is higher than men)\n",
    "\n",
    "#df[df[\"gender\"]==0][\"height\"].mean() #169.25334163752217\n",
    "#df[df[\"gender\"]==1][\"height\"].mean() #162.05207429708628\n",
    "#df[df[\"gender\"]==0][\"age\"].mean() #53.07580319072483\n",
    "#df[df[\"gender\"]==1][\"age\"].mean() #53.42321937031157\n",
    "\n",
    "# so we're save to assume that 0 is male and 1 is female"
   ]
  },
  {
   "cell_type": "code",
   "execution_count": 6,
   "id": "2853ec97-6954-4096-932d-bad68fe0dc2f",
   "metadata": {},
   "outputs": [],
   "source": [
    "def preprocessing_p2(df):\n",
    "    \n",
    "    #applying standard scaling to features\n",
    "    col_names = ['age', 'height','weight','ap_hi','ap_lo','bmi']\n",
    "    \n",
    "    for column in col_names:\n",
    "        ct = ColumnTransformer([('somename', StandardScaler(), [column])], remainder='passthrough')\n",
    "        df[column]=ct.fit_transform(df[[column]])\n",
    "\n",
    "    # one-hot encode categorical columns\n",
    "    cols_to_one_hot=['gender','cholesterol','gluc','smoke','alco','active'] #bmi\n",
    "    \n",
    "    #df = pd.get_dummies(data=df, columns=[col for col in df.columns if col in cols_to_one_hot])\n",
    "    df = pd.get_dummies(data=df, columns=cols_to_one_hot)\n",
    "\n",
    "    return df "
   ]
  },
  {
   "cell_type": "code",
   "execution_count": null,
   "id": "3d2ec32c-06d9-431c-9e0e-34c3ef8378da",
   "metadata": {},
   "outputs": [],
   "source": [
    "def data_augmentation(dataset):\n",
    "    \n",
    "    all_cols=['age', 'gender', 'height', 'weight', 'ap_hi', 'ap_lo', 'cholesterol',\n",
    "           'gluc', 'smoke', 'alco', 'active', 'cardio', 'bmi']\n",
    "\n",
    "    con= ['age', 'height','weight','ap_hi','ap_lo','bmi']\n",
    "\n",
    "    categorical=['gender','cholesterol','gluc','smoke','alco','active'] #bmi\n",
    "\n",
    "    #first try with all , turning binary categories into ordinal categorical \n",
    "    #then see if performance increases\n",
    "    #second: try rounding up to 0 or 1 , or to 2,3\n",
    "    #binary=['gender','smoke','alc','active']\n",
    "\n",
    "    age_st= np.std(df.age)\n",
    "    gender_st=np.std(df.gender)\n",
    "    height_st=np.std(df.height)\n",
    "    weight_st=np.std(df.weight)\n",
    "    ap_hi_st=np.std(df.ap_hi)\n",
    "    ap_lo_st=np.std(df.ap_lo)\n",
    "    cholesterol_st=np.std(df.cholesterol)\n",
    "    gluc_st=np.std(df.gluc)\n",
    "    smoke_st=np.std(df.smoke)\n",
    "    alco_st=np.std(df.alco)\n",
    "    active_st=np.std(df.active)\n",
    "    cardio_st=np.std(df.cardio)\n",
    "    bmi_st=np.std(df.bmi)\n",
    "\n",
    "    dataset=[]\n",
    "\n",
    "    for _,row in df.iterrows():\n",
    "        temp={\n",
    "            'age': row['age'] ,\n",
    "            'gender': row['gender'],\n",
    "            'height': row['height'] ,\n",
    "            'weight': row['weight'] ,\n",
    "            'ap_hi': row['ap_hi'] ,\n",
    "            'ap_lo': row['ap_lo'] ,\n",
    "            'cholesterol': row['cholesterol']  ,\n",
    "            'gluc': row['gluc'] ,\n",
    "            'smoke': row['smoke'] ,\n",
    "            'alco': row['alco'] ,\n",
    "            'active': row['active'], \n",
    "            'cardio': row['cardio'], \n",
    "            'bmi': row['bmi'] \n",
    "        }\n",
    "        dataset.append(temp)\n",
    "\n",
    "    for _ in range(20):\n",
    "        for _,row in df.iterrows():\n",
    "            temp={\n",
    "                'age': row['age'] + np.random.uniform(age_st),\n",
    "                'gender': row['gender'],\n",
    "                'height': row['height'] + np.random.uniform(height_st),\n",
    "                'weight': row['weight'] + np.random.uniform(weight_st),\n",
    "                'ap_hi': row['ap_hi'] + np.random.uniform(ap_hi_st),\n",
    "                'ap_lo': row['ap_lo'] + np.random.uniform(ap_lo_st),\n",
    "                'cholesterol': row['cholesterol'],\n",
    "                'gluc': row['gluc'] ,\n",
    "                'smoke': row['smoke'] ,\n",
    "                'alco': row['alco'] ,\n",
    "                'active': row['active'],\n",
    "                'cardio': row['cardio'],\n",
    "                'bmi': row['bmi'] + np.random.uniform(bmi_st)\n",
    "            }\n",
    "            dataset.append(temp)\n",
    "\n",
    "    print(len(dataset))\n",
    "    \n",
    "    return dataset\n",
    "\n",
    "\n",
    "#deployment\n",
    "\n",
    "tempy=pd.DataFrame(dataset)\n",
    "\n",
    "col_names=['age', 'height', 'weight', 'ap_hi', 'ap_lo','bmi']\n",
    "for column in col_names:\n",
    "    ct = ColumnTransformer([('somename', StandardScaler(), [column])], remainder='passthrough')\n",
    "    tempy[column]=ct.fit_transform(tempy[[column]])\n",
    "    \n",
    "    \n",
    "cols_to_one_hot=['gender','cholesterol','gluc','smoke','alco','active']\n",
    "\n",
    "#df = pd.get_dummies(data=df, columns=[col for col in df.columns if col in cols_to_one_hot])\n",
    "tempy = pd.get_dummies(data=tempy, columns=cols_to_one_hot)\n",
    "\n",
    "\n",
    "X = tempy.drop('cardio',axis=1)\n",
    "y = tempy['cardio'] \n",
    "\n",
    "X_train, X_test, y_train,y_test = train_test_split(X, y, test_size=0.05)\n"
   ]
  },
  {
   "cell_type": "code",
   "execution_count": 8,
   "id": "cf29e01b-d107-4cd9-952a-1c574e920729",
   "metadata": {},
   "outputs": [
    {
     "data": {
      "text/html": [
       "<div>\n",
       "<style scoped>\n",
       "    .dataframe tbody tr th:only-of-type {\n",
       "        vertical-align: middle;\n",
       "    }\n",
       "\n",
       "    .dataframe tbody tr th {\n",
       "        vertical-align: top;\n",
       "    }\n",
       "\n",
       "    .dataframe thead th {\n",
       "        text-align: right;\n",
       "    }\n",
       "</style>\n",
       "<table border=\"1\" class=\"dataframe\">\n",
       "  <thead>\n",
       "    <tr style=\"text-align: right;\">\n",
       "      <th></th>\n",
       "      <th>age</th>\n",
       "      <th>height</th>\n",
       "      <th>weight</th>\n",
       "      <th>ap_hi</th>\n",
       "      <th>ap_lo</th>\n",
       "      <th>bmi</th>\n",
       "      <th>gender_0</th>\n",
       "      <th>gender_1</th>\n",
       "      <th>cholesterol_1</th>\n",
       "      <th>cholesterol_2</th>\n",
       "      <th>cholesterol_3</th>\n",
       "      <th>gluc_1</th>\n",
       "      <th>gluc_2</th>\n",
       "      <th>gluc_3</th>\n",
       "      <th>smoke_0</th>\n",
       "      <th>smoke_1</th>\n",
       "      <th>alco_0</th>\n",
       "      <th>alco_1</th>\n",
       "      <th>active_0</th>\n",
       "      <th>active_1</th>\n",
       "    </tr>\n",
       "  </thead>\n",
       "  <tbody>\n",
       "    <tr>\n",
       "      <th>28020</th>\n",
       "      <td>-0.129498</td>\n",
       "      <td>1.967765</td>\n",
       "      <td>-0.726264</td>\n",
       "      <td>-0.419613</td>\n",
       "      <td>-0.127124</td>\n",
       "      <td>-1.511623</td>\n",
       "      <td>1</td>\n",
       "      <td>0</td>\n",
       "      <td>1</td>\n",
       "      <td>0</td>\n",
       "      <td>0</td>\n",
       "      <td>0</td>\n",
       "      <td>1</td>\n",
       "      <td>0</td>\n",
       "      <td>1</td>\n",
       "      <td>0</td>\n",
       "      <td>1</td>\n",
       "      <td>0</td>\n",
       "      <td>0</td>\n",
       "      <td>1</td>\n",
       "    </tr>\n",
       "    <tr>\n",
       "      <th>58517</th>\n",
       "      <td>0.716510</td>\n",
       "      <td>1.089659</td>\n",
       "      <td>-0.123708</td>\n",
       "      <td>-0.419613</td>\n",
       "      <td>-0.127124</td>\n",
       "      <td>-0.643992</td>\n",
       "      <td>0</td>\n",
       "      <td>1</td>\n",
       "      <td>1</td>\n",
       "      <td>0</td>\n",
       "      <td>0</td>\n",
       "      <td>1</td>\n",
       "      <td>0</td>\n",
       "      <td>0</td>\n",
       "      <td>1</td>\n",
       "      <td>0</td>\n",
       "      <td>1</td>\n",
       "      <td>0</td>\n",
       "      <td>1</td>\n",
       "      <td>0</td>\n",
       "    </tr>\n",
       "    <tr>\n",
       "      <th>66338</th>\n",
       "      <td>0.906491</td>\n",
       "      <td>0.504255</td>\n",
       "      <td>-0.726264</td>\n",
       "      <td>-0.419613</td>\n",
       "      <td>-0.127124</td>\n",
       "      <td>-0.940762</td>\n",
       "      <td>1</td>\n",
       "      <td>0</td>\n",
       "      <td>1</td>\n",
       "      <td>0</td>\n",
       "      <td>0</td>\n",
       "      <td>1</td>\n",
       "      <td>0</td>\n",
       "      <td>0</td>\n",
       "      <td>1</td>\n",
       "      <td>0</td>\n",
       "      <td>1</td>\n",
       "      <td>0</td>\n",
       "      <td>0</td>\n",
       "      <td>1</td>\n",
       "    </tr>\n",
       "    <tr>\n",
       "      <th>21388</th>\n",
       "      <td>-0.162151</td>\n",
       "      <td>-0.959255</td>\n",
       "      <td>-0.726264</td>\n",
       "      <td>-1.145936</td>\n",
       "      <td>-1.340201</td>\n",
       "      <td>-0.258112</td>\n",
       "      <td>0</td>\n",
       "      <td>1</td>\n",
       "      <td>1</td>\n",
       "      <td>0</td>\n",
       "      <td>0</td>\n",
       "      <td>1</td>\n",
       "      <td>0</td>\n",
       "      <td>0</td>\n",
       "      <td>1</td>\n",
       "      <td>0</td>\n",
       "      <td>1</td>\n",
       "      <td>0</td>\n",
       "      <td>1</td>\n",
       "      <td>0</td>\n",
       "    </tr>\n",
       "    <tr>\n",
       "      <th>54978</th>\n",
       "      <td>-1.092759</td>\n",
       "      <td>-0.520202</td>\n",
       "      <td>-0.898423</td>\n",
       "      <td>-1.872258</td>\n",
       "      <td>-1.340201</td>\n",
       "      <td>-0.651451</td>\n",
       "      <td>1</td>\n",
       "      <td>0</td>\n",
       "      <td>1</td>\n",
       "      <td>0</td>\n",
       "      <td>0</td>\n",
       "      <td>1</td>\n",
       "      <td>0</td>\n",
       "      <td>0</td>\n",
       "      <td>0</td>\n",
       "      <td>1</td>\n",
       "      <td>1</td>\n",
       "      <td>0</td>\n",
       "      <td>0</td>\n",
       "      <td>1</td>\n",
       "    </tr>\n",
       "  </tbody>\n",
       "</table>\n",
       "</div>"
      ],
      "text/plain": [
       "            age    height    weight     ap_hi     ap_lo       bmi  gender_0  \\\n",
       "28020 -0.129498  1.967765 -0.726264 -0.419613 -0.127124 -1.511623         1   \n",
       "58517  0.716510  1.089659 -0.123708 -0.419613 -0.127124 -0.643992         0   \n",
       "66338  0.906491  0.504255 -0.726264 -0.419613 -0.127124 -0.940762         1   \n",
       "21388 -0.162151 -0.959255 -0.726264 -1.145936 -1.340201 -0.258112         0   \n",
       "54978 -1.092759 -0.520202 -0.898423 -1.872258 -1.340201 -0.651451         1   \n",
       "\n",
       "       gender_1  cholesterol_1  cholesterol_2  cholesterol_3  gluc_1  gluc_2  \\\n",
       "28020         0              1              0              0       0       1   \n",
       "58517         1              1              0              0       1       0   \n",
       "66338         0              1              0              0       1       0   \n",
       "21388         1              1              0              0       1       0   \n",
       "54978         0              1              0              0       1       0   \n",
       "\n",
       "       gluc_3  smoke_0  smoke_1  alco_0  alco_1  active_0  active_1  \n",
       "28020       0        1        0       1       0         0         1  \n",
       "58517       0        1        0       1       0         1         0  \n",
       "66338       0        1        0       1       0         0         1  \n",
       "21388       0        1        0       1       0         1         0  \n",
       "54978       0        0        1       1       0         0         1  "
      ]
     },
     "execution_count": 8,
     "metadata": {},
     "output_type": "execute_result"
    }
   ],
   "source": [
    "### DEPLOY ### \n",
    "\n",
    "\n",
    "#applying both processing steps on the dataset \n",
    "cpy= preprocessing_p2(preprocessing_p1(pd.read_csv('./cardio_train.csv',delimiter=';')))\n",
    "\n",
    "\n",
    "#initalize X with our DataFrame - the label we want to predict and assigning the target label to y \n",
    "X = cpy.drop('cardio',axis=1)\n",
    "y = cpy['cardio'] \n",
    "\n",
    "\n",
    "#train-test split with the help of sklearn \n",
    "X_train, X_test, y_train,y_test = train_test_split(X, y, test_size=0.1)\n",
    "X_train.head()\n",
    "\n",
    "#we could've used tf to load the data like:\n",
    "# df = tf.keras.datasets.<dataset>\n",
    "# (X_train,y_train),(X_test,y_test) = df.load_data()"
   ]
  },
  {
   "cell_type": "markdown",
   "id": "9eed068a-fa6a-4bbd-ad20-8b1fa3fc3dbe",
   "metadata": {},
   "source": [
    "# Modelling"
   ]
  },
  {
   "cell_type": "code",
   "execution_count": 38,
   "id": "1e75f1e9",
   "metadata": {},
   "outputs": [],
   "source": [
    "model = Sequential()\n",
    "\n",
    "#model.add(Dense(units=16, activation='elu', input_dim=X_train.shape[1]))\n",
    "\n",
    "model.add(Dense(units=32,input_dim=X_train.shape[1]))\n",
    "model.add(Activation('tanh'))\n",
    "model.add(BatchNormalization())\n",
    "model.add(Dropout(rate=0.5))\n",
    "\n",
    "model.add(Dense(units=32))\n",
    "model.add(Activation('tanh'))\n",
    "model.add(BatchNormalization())\n",
    "model.add(Dropout(rate=0.5))\n",
    "\n",
    "model.add(Dense(units=32))\n",
    "model.add(Activation('tanh'))\n",
    "model.add(BatchNormalization())\n",
    "model.add(Dropout(rate=0.5))\n",
    "\n",
    "model.add(Dense(units=32))\n",
    "model.add(Activation('tanh'))\n",
    "model.add(BatchNormalization())\n",
    "model.add(Dropout(rate=0.5))\n",
    "\n",
    "model.add(Dense(units=1))\n",
    "model.add(Activation('sigmoid'))\n",
    "\n",
    "optimizer=SGD(learning_rate= 0.01, momentum=0.5)\n",
    "loss = BinaryCrossentropy(label_smoothing = 0.1)\n",
    "#optimizer= CosineDecay()\n",
    "model.compile(loss=loss, optimizer=optimizer, metrics= 'accuracy')\n",
    "\n",
    "# > Dense -> BatchNorm -> ReLu(or other activation) -> Dropout -> Dense ->"
   ]
  },
  {
   "cell_type": "code",
   "execution_count": null,
   "id": "fe9a7415-809b-46b6-9a03-5e91bc57a025",
   "metadata": {
    "tags": []
   },
   "outputs": [
    {
     "data": {
      "text/html": [
       "Finishing last run (ID:bskao1mk) before initializing another..."
      ],
      "text/plain": [
       "<IPython.core.display.HTML object>"
      ]
     },
     "metadata": {},
     "output_type": "display_data"
    },
    {
     "data": {
      "text/html": [
       "Waiting for W&B process to finish... <strong style=\"color:green\">(success).</strong>"
      ],
      "text/plain": [
       "<IPython.core.display.HTML object>"
      ]
     },
     "metadata": {},
     "output_type": "display_data"
    },
    {
     "data": {
      "application/vnd.jupyter.widget-view+json": {
       "model_id": "7baa5f200b9148b19b24c8ae5e531351",
       "version_major": 2,
       "version_minor": 0
      },
      "text/plain": [
       "VBox(children=(Label(value='0.004 MB of 0.004 MB uploaded (0.000 MB deduped)\\r'), FloatProgress(value=1.0, max…"
      ]
     },
     "metadata": {},
     "output_type": "display_data"
    },
    {
     "data": {
      "text/html": [
       "<style>\n",
       "    table.wandb td:nth-child(1) { padding: 0 10px; text-align: left ; width: auto;} td:nth-child(2) {text-align: left ; width: 100%}\n",
       "    .wandb-row { display: flex; flex-direction: row; flex-wrap: wrap; justify-content: flex-start; width: 100% }\n",
       "    .wandb-col { display: flex; flex-direction: column; flex-basis: 100%; flex: 1; padding: 10px; }\n",
       "    </style>\n",
       "<div class=\"wandb-row\"><div class=\"wandb-col\"><h3>Run history:</h3><br/><table class=\"wandb\"><tr><td>accuracy</td><td>▁▇▇▇▇█▇█▇</td></tr><tr><td>epoch</td><td>▁▂▃▄▅▅▆▇█</td></tr><tr><td>loss</td><td>█▂▁▁▁▁▁▁▁</td></tr></table><br/></div><div class=\"wandb-col\"><h3>Run summary:</h3><br/><table class=\"wandb\"><tr><td>accuracy</td><td>0.71467</td></tr><tr><td>epoch</td><td>8</td></tr><tr><td>loss</td><td>0.59922</td></tr></table><br/></div></div>"
      ],
      "text/plain": [
       "<IPython.core.display.HTML object>"
      ]
     },
     "metadata": {},
     "output_type": "display_data"
    },
    {
     "data": {
      "text/html": [
       "Synced <strong style=\"color:#cdcd00\">bewitched-reaper-10</strong>: <a href=\"https://wandb.ai/markalsa/cardiovascular-disease-detection/runs/bskao1mk\" target=\"_blank\">https://wandb.ai/markalsa/cardiovascular-disease-detection/runs/bskao1mk</a><br/>Synced 6 W&B file(s), 1 media file(s), 0 artifact file(s) and 0 other file(s)"
      ],
      "text/plain": [
       "<IPython.core.display.HTML object>"
      ]
     },
     "metadata": {},
     "output_type": "display_data"
    },
    {
     "data": {
      "text/html": [
       "Find logs at: <code>./wandb/run-20221030_172012-bskao1mk/logs</code>"
      ],
      "text/plain": [
       "<IPython.core.display.HTML object>"
      ]
     },
     "metadata": {},
     "output_type": "display_data"
    },
    {
     "data": {
      "text/html": [
       "Successfully finished last run (ID:bskao1mk). Initializing new run:<br/>"
      ],
      "text/plain": [
       "<IPython.core.display.HTML object>"
      ]
     },
     "metadata": {},
     "output_type": "display_data"
    },
    {
     "data": {
      "application/vnd.jupyter.widget-view+json": {
       "model_id": "eecde95cb3f14e16ab01a09c684529f8",
       "version_major": 2,
       "version_minor": 0
      },
      "text/plain": [
       "VBox(children=(Label(value='Waiting for wandb.init()...\\r'), FloatProgress(value=0.01673720134999712, max=1.0)…"
      ]
     },
     "metadata": {},
     "output_type": "display_data"
    },
    {
     "data": {
      "text/html": [
       "Tracking run with wandb version 0.13.4"
      ],
      "text/plain": [
       "<IPython.core.display.HTML object>"
      ]
     },
     "metadata": {},
     "output_type": "display_data"
    },
    {
     "data": {
      "text/html": [
       "Run data is saved locally in <code>/Users/alsadeq/Desktop/cardiovascular-disease-detection/wandb/run-20221030_203208-sqdsyx8e</code>"
      ],
      "text/plain": [
       "<IPython.core.display.HTML object>"
      ]
     },
     "metadata": {},
     "output_type": "display_data"
    },
    {
     "data": {
      "text/html": [
       "Syncing run <strong><a href=\"https://wandb.ai/markalsa/cardiovascular-disease-detection/runs/sqdsyx8e\" target=\"_blank\">macabre-werewolf-11</a></strong> to <a href=\"https://wandb.ai/markalsa/cardiovascular-disease-detection\" target=\"_blank\">Weights & Biases</a> (<a href=\"https://wandb.me/run\" target=\"_blank\">docs</a>)<br/>"
      ],
      "text/plain": [
       "<IPython.core.display.HTML object>"
      ]
     },
     "metadata": {},
     "output_type": "display_data"
    },
    {
     "name": "stdout",
     "output_type": "stream",
     "text": [
      "Epoch 1/200\n",
      "74896/74896 [==============================] - 80s 1ms/step - loss: 0.6190 - accuracy: 0.6986\n",
      "Epoch 2/200\n",
      "74896/74896 [==============================] - 76s 1ms/step - loss: 0.6111 - accuracy: 0.7020\n",
      "Epoch 3/200\n",
      "74896/74896 [==============================] - 76s 1ms/step - loss: 0.6081 - accuracy: 0.7025\n",
      "Epoch 4/200\n",
      "74896/74896 [==============================] - 76s 1ms/step - loss: 0.6067 - accuracy: 0.7036\n",
      "Epoch 5/200\n",
      "74896/74896 [==============================] - 77s 1ms/step - loss: 0.6060 - accuracy: 0.7046\n",
      "Epoch 6/200\n",
      "74896/74896 [==============================] - 75s 1ms/step - loss: 0.6052 - accuracy: 0.7055\n",
      "Epoch 7/200\n",
      "74896/74896 [==============================] - 75s 995us/step - loss: 0.6047 - accuracy: 0.7061\n",
      "Epoch 8/200\n",
      "74896/74896 [==============================] - 75s 1ms/step - loss: 0.6042 - accuracy: 0.7069\n",
      "Epoch 9/200\n",
      "74896/74896 [==============================] - 75s 1ms/step - loss: 0.6038 - accuracy: 0.7077\n",
      "Epoch 10/200\n",
      "74896/74896 [==============================] - 75s 1ms/step - loss: 0.6035 - accuracy: 0.7078\n",
      "Epoch 11/200\n",
      "74896/74896 [==============================] - 75s 997us/step - loss: 0.6032 - accuracy: 0.7084\n",
      "Epoch 12/200\n",
      "74896/74896 [==============================] - 75s 1ms/step - loss: 0.6029 - accuracy: 0.7089\n",
      "Epoch 13/200\n",
      "74896/74896 [==============================] - 81s 1ms/step - loss: 0.6029 - accuracy: 0.7094\n",
      "Epoch 14/200\n",
      "74896/74896 [==============================] - 85s 1ms/step - loss: 0.6024 - accuracy: 0.7098\n",
      "Epoch 15/200\n",
      "74896/74896 [==============================] - 85s 1ms/step - loss: 0.6025 - accuracy: 0.7099\n",
      "Epoch 16/200\n",
      "74896/74896 [==============================] - 85s 1ms/step - loss: 0.6023 - accuracy: 0.7100\n",
      "Epoch 17/200\n",
      "74896/74896 [==============================] - 86s 1ms/step - loss: 0.6019 - accuracy: 0.7108\n",
      "Epoch 18/200\n",
      "52942/74896 [====================>.........] - ETA: 25s - loss: 0.6026 - accuracy: 0.7101"
     ]
    }
   ],
   "source": [
    "wandb.init(project='cardiovascular-disease-detection',config={'epochs':200,'batch_size':16})\n",
    "\n",
    "model.fit(X_train,y_train, epochs=wandb.config.epochs, batch_size=wandb.config.batch_size, callbacks=[wandb.keras.WandbCallback()])"
   ]
  },
  {
   "cell_type": "code",
   "execution_count": null,
   "id": "8211fa77",
   "metadata": {
    "jupyter": {
     "source_hidden": true
    },
    "tags": []
   },
   "outputs": [],
   "source": [
    "#model.evaluate(X_test,y_test)\n",
    "\n",
    "#prediction and saving model \n",
    "\n",
    "#y_hat=model.predict(X_test)\n",
    "#y_hat=[0 if val<0.5 else 1 for val in y_hat]\n",
    "#accuracy_score(y_test,y_hat)\n",
    "\n",
    "#model.save('<nameoffolder>')\n",
    "#model.load('<nameofmodel>')"
   ]
  },
  {
   "cell_type": "markdown",
   "id": "73e62dcd-e42b-4a18-971f-9ed42ade46a5",
   "metadata": {},
   "source": [
    "# Data Augmentation to improve model acc"
   ]
  },
  {
   "cell_type": "code",
   "execution_count": null,
   "id": "0bac4b49-301e-4092-9955-ec7ce89ec1cc",
   "metadata": {},
   "outputs": [],
   "source": [
    "#check above (before \"Modelling\")"
   ]
  },
  {
   "cell_type": "markdown",
   "id": "7d3d6a79-6ad5-4a18-93cd-b55c02a1e9c0",
   "metadata": {},
   "source": [
    "### Creating Synthetic Data Using GANs"
   ]
  },
  {
   "cell_type": "code",
   "execution_count": null,
   "id": "1456f4b8-e4c6-42e8-b9b0-510e1a85598f",
   "metadata": {
    "collapsed": true,
    "jupyter": {
     "outputs_hidden": true,
     "source_hidden": true
    },
    "tags": []
   },
   "outputs": [
    {
     "data": {
      "application/json": {
       "ascii": false,
       "bar_format": null,
       "colour": null,
       "elapsed": 0.014960765838623047,
       "initial": 0,
       "n": 0,
       "ncols": null,
       "nrows": null,
       "postfix": null,
       "prefix": "Fitting CTGAN transformers for each column",
       "rate": null,
       "total": 5,
       "unit": "it",
       "unit_divisor": 1000,
       "unit_scale": false
      },
      "application/vnd.jupyter.widget-view+json": {
       "model_id": "9a62330883814629bdb816d4aa39d413",
       "version_major": 2,
       "version_minor": 0
      },
      "text/plain": [
       "Fitting CTGAN transformers for each column:   0%|          | 0/5 [00:00<?, ?it/s]"
      ]
     },
     "metadata": {},
     "output_type": "display_data"
    },
    {
     "data": {
      "application/json": {
       "ascii": false,
       "bar_format": null,
       "colour": null,
       "elapsed": 0.011996746063232422,
       "initial": 0,
       "n": 0,
       "ncols": null,
       "nrows": null,
       "postfix": null,
       "prefix": "Training CTGAN, epochs:",
       "rate": null,
       "total": 500,
       "unit": "it",
       "unit_divisor": 1000,
       "unit_scale": false
      },
      "application/vnd.jupyter.widget-view+json": {
       "model_id": "9e8a55655e564d92bed4657639773bb9",
       "version_major": 2,
       "version_minor": 0
      },
      "text/plain": [
       "Training CTGAN, epochs::   0%|          | 0/500 [00:00<?, ?it/s]"
      ]
     },
     "metadata": {},
     "output_type": "display_data"
    },
    {
     "name": "stderr",
     "output_type": "stream",
     "text": [
      "C:\\Users\\marka\\AppData\\Roaming\\Python\\Python39\\site-packages\\lightgbm\\sklearn.py:726: UserWarning: 'early_stopping_rounds' argument is deprecated and will be removed in a future release of LightGBM. Pass 'early_stopping()' callback via 'callbacks' argument instead.\n",
      "  _log_warning(\"'early_stopping_rounds' argument is deprecated and will be removed in a future release of LightGBM. \"\n",
      "C:\\Users\\marka\\AppData\\Roaming\\Python\\Python39\\site-packages\\lightgbm\\sklearn.py:736: UserWarning: 'verbose' argument is deprecated and will be removed in a future release of LightGBM. Pass 'log_evaluation()' callback via 'callbacks' argument instead.\n",
      "  _log_warning(\"'verbose' argument is deprecated and will be removed in a future release of LightGBM. \"\n",
      "C:\\Users\\marka\\AppData\\Roaming\\Python\\Python39\\site-packages\\lightgbm\\sklearn.py:726: UserWarning: 'early_stopping_rounds' argument is deprecated and will be removed in a future release of LightGBM. Pass 'early_stopping()' callback via 'callbacks' argument instead.\n",
      "  _log_warning(\"'early_stopping_rounds' argument is deprecated and will be removed in a future release of LightGBM. \"\n",
      "C:\\Users\\marka\\AppData\\Roaming\\Python\\Python39\\site-packages\\lightgbm\\sklearn.py:736: UserWarning: 'verbose' argument is deprecated and will be removed in a future release of LightGBM. Pass 'log_evaluation()' callback via 'callbacks' argument instead.\n",
      "  _log_warning(\"'verbose' argument is deprecated and will be removed in a future release of LightGBM. \"\n",
      "C:\\Users\\marka\\AppData\\Roaming\\Python\\Python39\\site-packages\\lightgbm\\sklearn.py:726: UserWarning: 'early_stopping_rounds' argument is deprecated and will be removed in a future release of LightGBM. Pass 'early_stopping()' callback via 'callbacks' argument instead.\n",
      "  _log_warning(\"'early_stopping_rounds' argument is deprecated and will be removed in a future release of LightGBM. \"\n",
      "C:\\Users\\marka\\AppData\\Roaming\\Python\\Python39\\site-packages\\lightgbm\\sklearn.py:736: UserWarning: 'verbose' argument is deprecated and will be removed in a future release of LightGBM. Pass 'log_evaluation()' callback via 'callbacks' argument instead.\n",
      "  _log_warning(\"'verbose' argument is deprecated and will be removed in a future release of LightGBM. \"\n",
      "C:\\Users\\marka\\AppData\\Roaming\\Python\\Python39\\site-packages\\lightgbm\\sklearn.py:726: UserWarning: 'early_stopping_rounds' argument is deprecated and will be removed in a future release of LightGBM. Pass 'early_stopping()' callback via 'callbacks' argument instead.\n",
      "  _log_warning(\"'early_stopping_rounds' argument is deprecated and will be removed in a future release of LightGBM. \"\n",
      "C:\\Users\\marka\\AppData\\Roaming\\Python\\Python39\\site-packages\\lightgbm\\sklearn.py:736: UserWarning: 'verbose' argument is deprecated and will be removed in a future release of LightGBM. Pass 'log_evaluation()' callback via 'callbacks' argument instead.\n",
      "  _log_warning(\"'verbose' argument is deprecated and will be removed in a future release of LightGBM. \"\n",
      "C:\\Users\\marka\\AppData\\Roaming\\Python\\Python39\\site-packages\\lightgbm\\sklearn.py:726: UserWarning: 'early_stopping_rounds' argument is deprecated and will be removed in a future release of LightGBM. Pass 'early_stopping()' callback via 'callbacks' argument instead.\n",
      "  _log_warning(\"'early_stopping_rounds' argument is deprecated and will be removed in a future release of LightGBM. \"\n",
      "C:\\Users\\marka\\AppData\\Roaming\\Python\\Python39\\site-packages\\lightgbm\\sklearn.py:736: UserWarning: 'verbose' argument is deprecated and will be removed in a future release of LightGBM. Pass 'log_evaluation()' callback via 'callbacks' argument instead.\n",
      "  _log_warning(\"'verbose' argument is deprecated and will be removed in a future release of LightGBM. \"\n"
     ]
    }
   ],
   "source": [
    "# random input data\n",
    "np.random.seed(0)\n",
    "train = pd.DataFrame(np.random.randint(-10, 150, size=(150, 4)), columns=list(\"ABCD\"))\n",
    "target = pd.DataFrame(np.random.randint(0, 2, size=(150, 1)), columns=list(\"Y\"))\n",
    "test = pd.DataFrame(np.random.randint(0, 100, size=(100, 4)), columns=list(\"ABCD\"))\n",
    "\n",
    "# generate data\n",
    "#new_train1, new_target1 = OriginalGenerator().generate_data_pipe(train, target, test, )\n",
    "new_train, new_target = GANGenerator().generate_data_pipe(train, target, test,)\n",
    "#df_merged = a.append(b, ignore_index=True)\n"
   ]
  },
  {
   "cell_type": "code",
   "execution_count": null,
   "id": "214388d8-39e1-40a7-b52c-64e1a1a153a5",
   "metadata": {
    "jupyter": {
     "source_hidden": true
    },
    "tags": []
   },
   "outputs": [],
   "source": [
    "copy=preprocessing_p1(df)\n",
    "\n",
    "X = copy.drop('cardio',axis=1)\n",
    "y = copy['cardio'] \n",
    "X_train, X_test, y_train,y_test = train_test_split(X, y, test_size=0.1)\n",
    "\n",
    "y_train= y_train.to_frame(name='cardio')\n",
    "\n",
    "\n",
    "new_train, new_target = GANGenerator().generate_data_pipe(X_train, y_train, X_test)\n",
    "\n",
    "new_target= new_target.to_frame(name='cardio')\n",
    "\n",
    "X_train=X_train.append(new_train, ignore_index=True)\n",
    "y_train=y_train.append(new_target, ignore_index=True)\n",
    "\n",
    "X_train = preprocessing_p2(X_train)\n"
   ]
  },
  {
   "cell_type": "code",
   "execution_count": null,
   "id": "08b5b006-7dcd-446e-872c-378dc9cfaa06",
   "metadata": {
    "collapsed": true,
    "jupyter": {
     "outputs_hidden": true,
     "source_hidden": true
    },
    "tags": []
   },
   "outputs": [
    {
     "ename": "KeyboardInterrupt",
     "evalue": "",
     "output_type": "error",
     "traceback": [
      "\u001b[1;31m---------------------------------------------------------------------------\u001b[0m",
      "\u001b[1;31mKeyboardInterrupt\u001b[0m                         Traceback (most recent call last)",
      "\u001b[1;32m~\\AppData\\Local\\Temp/ipykernel_6652/685078180.py\u001b[0m in \u001b[0;36m<module>\u001b[1;34m\u001b[0m\n\u001b[0;32m     11\u001b[0m \u001b[1;33m\u001b[0m\u001b[0m\n\u001b[0;32m     12\u001b[0m \u001b[0mctgan\u001b[0m \u001b[1;33m=\u001b[0m \u001b[0mCTGAN\u001b[0m\u001b[1;33m(\u001b[0m\u001b[0mepochs\u001b[0m\u001b[1;33m=\u001b[0m\u001b[1;36m10\u001b[0m\u001b[1;33m)\u001b[0m\u001b[1;33m\u001b[0m\u001b[1;33m\u001b[0m\u001b[0m\n\u001b[1;32m---> 13\u001b[1;33m ctgan.fit(real_data, list(real_data.columns)\n\u001b[0m\u001b[0;32m     14\u001b[0m )\n\u001b[0;32m     15\u001b[0m \u001b[1;33m\u001b[0m\u001b[0m\n",
      "\u001b[1;32mD:\\Users\\marka\\anaconda3\\lib\\site-packages\\ctgan\\synthesizers\\base.py\u001b[0m in \u001b[0;36mwrapper\u001b[1;34m(self, *args, **kwargs)\u001b[0m\n\u001b[0;32m     48\u001b[0m     \u001b[1;32mdef\u001b[0m \u001b[0mwrapper\u001b[0m\u001b[1;33m(\u001b[0m\u001b[0mself\u001b[0m\u001b[1;33m,\u001b[0m \u001b[1;33m*\u001b[0m\u001b[0margs\u001b[0m\u001b[1;33m,\u001b[0m \u001b[1;33m**\u001b[0m\u001b[0mkwargs\u001b[0m\u001b[1;33m)\u001b[0m\u001b[1;33m:\u001b[0m\u001b[1;33m\u001b[0m\u001b[1;33m\u001b[0m\u001b[0m\n\u001b[0;32m     49\u001b[0m         \u001b[1;32mif\u001b[0m \u001b[0mself\u001b[0m\u001b[1;33m.\u001b[0m\u001b[0mrandom_states\u001b[0m \u001b[1;32mis\u001b[0m \u001b[1;32mNone\u001b[0m\u001b[1;33m:\u001b[0m\u001b[1;33m\u001b[0m\u001b[1;33m\u001b[0m\u001b[0m\n\u001b[1;32m---> 50\u001b[1;33m             \u001b[1;32mreturn\u001b[0m \u001b[0mfunction\u001b[0m\u001b[1;33m(\u001b[0m\u001b[0mself\u001b[0m\u001b[1;33m,\u001b[0m \u001b[1;33m*\u001b[0m\u001b[0margs\u001b[0m\u001b[1;33m,\u001b[0m \u001b[1;33m**\u001b[0m\u001b[0mkwargs\u001b[0m\u001b[1;33m)\u001b[0m\u001b[1;33m\u001b[0m\u001b[1;33m\u001b[0m\u001b[0m\n\u001b[0m\u001b[0;32m     51\u001b[0m \u001b[1;33m\u001b[0m\u001b[0m\n\u001b[0;32m     52\u001b[0m         \u001b[1;32melse\u001b[0m\u001b[1;33m:\u001b[0m\u001b[1;33m\u001b[0m\u001b[1;33m\u001b[0m\u001b[0m\n",
      "\u001b[1;32mD:\\Users\\marka\\anaconda3\\lib\\site-packages\\ctgan\\synthesizers\\ctgan.py\u001b[0m in \u001b[0;36mfit\u001b[1;34m(self, train_data, discrete_columns, epochs)\u001b[0m\n\u001b[0;32m    384\u001b[0m                     \u001b[0moptimizerD\u001b[0m\u001b[1;33m.\u001b[0m\u001b[0mzero_grad\u001b[0m\u001b[1;33m(\u001b[0m\u001b[1;33m)\u001b[0m\u001b[1;33m\u001b[0m\u001b[1;33m\u001b[0m\u001b[0m\n\u001b[0;32m    385\u001b[0m                     \u001b[0mpen\u001b[0m\u001b[1;33m.\u001b[0m\u001b[0mbackward\u001b[0m\u001b[1;33m(\u001b[0m\u001b[0mretain_graph\u001b[0m\u001b[1;33m=\u001b[0m\u001b[1;32mTrue\u001b[0m\u001b[1;33m)\u001b[0m\u001b[1;33m\u001b[0m\u001b[1;33m\u001b[0m\u001b[0m\n\u001b[1;32m--> 386\u001b[1;33m                     \u001b[0mloss_d\u001b[0m\u001b[1;33m.\u001b[0m\u001b[0mbackward\u001b[0m\u001b[1;33m(\u001b[0m\u001b[1;33m)\u001b[0m\u001b[1;33m\u001b[0m\u001b[1;33m\u001b[0m\u001b[0m\n\u001b[0m\u001b[0;32m    387\u001b[0m                     \u001b[0moptimizerD\u001b[0m\u001b[1;33m.\u001b[0m\u001b[0mstep\u001b[0m\u001b[1;33m(\u001b[0m\u001b[1;33m)\u001b[0m\u001b[1;33m\u001b[0m\u001b[1;33m\u001b[0m\u001b[0m\n\u001b[0;32m    388\u001b[0m \u001b[1;33m\u001b[0m\u001b[0m\n",
      "\u001b[1;32mD:\\Users\\marka\\anaconda3\\lib\\site-packages\\torch\\_tensor.py\u001b[0m in \u001b[0;36mbackward\u001b[1;34m(self, gradient, retain_graph, create_graph, inputs)\u001b[0m\n\u001b[0;32m    485\u001b[0m                 \u001b[0minputs\u001b[0m\u001b[1;33m=\u001b[0m\u001b[0minputs\u001b[0m\u001b[1;33m,\u001b[0m\u001b[1;33m\u001b[0m\u001b[1;33m\u001b[0m\u001b[0m\n\u001b[0;32m    486\u001b[0m             )\n\u001b[1;32m--> 487\u001b[1;33m         torch.autograd.backward(\n\u001b[0m\u001b[0;32m    488\u001b[0m             \u001b[0mself\u001b[0m\u001b[1;33m,\u001b[0m \u001b[0mgradient\u001b[0m\u001b[1;33m,\u001b[0m \u001b[0mretain_graph\u001b[0m\u001b[1;33m,\u001b[0m \u001b[0mcreate_graph\u001b[0m\u001b[1;33m,\u001b[0m \u001b[0minputs\u001b[0m\u001b[1;33m=\u001b[0m\u001b[0minputs\u001b[0m\u001b[1;33m\u001b[0m\u001b[1;33m\u001b[0m\u001b[0m\n\u001b[0;32m    489\u001b[0m         )\n",
      "\u001b[1;32mD:\\Users\\marka\\anaconda3\\lib\\site-packages\\torch\\autograd\\__init__.py\u001b[0m in \u001b[0;36mbackward\u001b[1;34m(tensors, grad_tensors, retain_graph, create_graph, grad_variables, inputs)\u001b[0m\n\u001b[0;32m    195\u001b[0m     \u001b[1;31m# some Python versions print out the first line of a multi-line function\u001b[0m\u001b[1;33m\u001b[0m\u001b[1;33m\u001b[0m\u001b[0m\n\u001b[0;32m    196\u001b[0m     \u001b[1;31m# calls in the traceback and some print out the last line\u001b[0m\u001b[1;33m\u001b[0m\u001b[1;33m\u001b[0m\u001b[0m\n\u001b[1;32m--> 197\u001b[1;33m     Variable._execution_engine.run_backward(  # Calls into the C++ engine to run the backward pass\n\u001b[0m\u001b[0;32m    198\u001b[0m         \u001b[0mtensors\u001b[0m\u001b[1;33m,\u001b[0m \u001b[0mgrad_tensors_\u001b[0m\u001b[1;33m,\u001b[0m \u001b[0mretain_graph\u001b[0m\u001b[1;33m,\u001b[0m \u001b[0mcreate_graph\u001b[0m\u001b[1;33m,\u001b[0m \u001b[0minputs\u001b[0m\u001b[1;33m,\u001b[0m\u001b[1;33m\u001b[0m\u001b[1;33m\u001b[0m\u001b[0m\n\u001b[0;32m    199\u001b[0m         allow_unreachable=True, accumulate_grad=True)  # Calls into the C++ engine to run the backward pass\n",
      "\u001b[1;31mKeyboardInterrupt\u001b[0m: "
     ]
    }
   ],
   "source": [
    "import ctgan\n",
    "import pandas as pd \n",
    "import numpy as np\n",
    "\n",
    "from ctgan import CTGAN\n",
    "from ctgan import load_demo\n",
    "\n",
    "real_data = preprocessing_p1(df)\n",
    "\n",
    "list(real_data.columns)\n",
    "\n",
    "ctgan = CTGAN(epochs=10)\n",
    "ctgan.fit(real_data, list(real_data.columns)\n",
    ")\n",
    "\n",
    "# Create synthetic data\n",
    "\n",
    "synthetic_data = ctgan.sample(10000)"
   ]
  }
 ],
 "metadata": {
  "kernelspec": {
   "display_name": "Python 3 (ipykernel)",
   "language": "python",
   "name": "python3"
  },
  "language_info": {
   "codemirror_mode": {
    "name": "ipython",
    "version": 3
   },
   "file_extension": ".py",
   "mimetype": "text/x-python",
   "name": "python",
   "nbconvert_exporter": "python",
   "pygments_lexer": "ipython3",
   "version": "3.9.7"
  }
 },
 "nbformat": 4,
 "nbformat_minor": 5
}
