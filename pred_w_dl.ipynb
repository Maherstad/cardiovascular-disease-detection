{
 "cells": [
  {
   "cell_type": "code",
   "execution_count": 1,
   "id": "34436292",
   "metadata": {},
   "outputs": [],
   "source": [
    "import pandas as pd\n",
    "from sklearn.model_selection import train_test_split\n"
   ]
  },
  {
   "cell_type": "code",
   "execution_count": 2,
   "id": "b2fe5b41",
   "metadata": {},
   "outputs": [],
   "source": [
    "df= pd.read_csv('./cardio_train.csv',delimiter=';')"
   ]
  },
  {
   "cell_type": "code",
   "execution_count": 3,
   "id": "0f91229c",
   "metadata": {},
   "outputs": [
    {
     "data": {
      "text/html": [
       "<div>\n",
       "<style scoped>\n",
       "    .dataframe tbody tr th:only-of-type {\n",
       "        vertical-align: middle;\n",
       "    }\n",
       "\n",
       "    .dataframe tbody tr th {\n",
       "        vertical-align: top;\n",
       "    }\n",
       "\n",
       "    .dataframe thead th {\n",
       "        text-align: right;\n",
       "    }\n",
       "</style>\n",
       "<table border=\"1\" class=\"dataframe\">\n",
       "  <thead>\n",
       "    <tr style=\"text-align: right;\">\n",
       "      <th></th>\n",
       "      <th>id</th>\n",
       "      <th>age</th>\n",
       "      <th>gender</th>\n",
       "      <th>height</th>\n",
       "      <th>weight</th>\n",
       "      <th>ap_hi</th>\n",
       "      <th>ap_lo</th>\n",
       "      <th>cholesterol</th>\n",
       "      <th>gluc</th>\n",
       "      <th>smoke</th>\n",
       "      <th>alco</th>\n",
       "      <th>active</th>\n",
       "      <th>cardio</th>\n",
       "    </tr>\n",
       "  </thead>\n",
       "  <tbody>\n",
       "    <tr>\n",
       "      <th>0</th>\n",
       "      <td>0</td>\n",
       "      <td>18393</td>\n",
       "      <td>2</td>\n",
       "      <td>168</td>\n",
       "      <td>62.0</td>\n",
       "      <td>110</td>\n",
       "      <td>80</td>\n",
       "      <td>1</td>\n",
       "      <td>1</td>\n",
       "      <td>0</td>\n",
       "      <td>0</td>\n",
       "      <td>1</td>\n",
       "      <td>0</td>\n",
       "    </tr>\n",
       "    <tr>\n",
       "      <th>1</th>\n",
       "      <td>1</td>\n",
       "      <td>20228</td>\n",
       "      <td>1</td>\n",
       "      <td>156</td>\n",
       "      <td>85.0</td>\n",
       "      <td>140</td>\n",
       "      <td>90</td>\n",
       "      <td>3</td>\n",
       "      <td>1</td>\n",
       "      <td>0</td>\n",
       "      <td>0</td>\n",
       "      <td>1</td>\n",
       "      <td>1</td>\n",
       "    </tr>\n",
       "    <tr>\n",
       "      <th>2</th>\n",
       "      <td>2</td>\n",
       "      <td>18857</td>\n",
       "      <td>1</td>\n",
       "      <td>165</td>\n",
       "      <td>64.0</td>\n",
       "      <td>130</td>\n",
       "      <td>70</td>\n",
       "      <td>3</td>\n",
       "      <td>1</td>\n",
       "      <td>0</td>\n",
       "      <td>0</td>\n",
       "      <td>0</td>\n",
       "      <td>1</td>\n",
       "    </tr>\n",
       "    <tr>\n",
       "      <th>3</th>\n",
       "      <td>3</td>\n",
       "      <td>17623</td>\n",
       "      <td>2</td>\n",
       "      <td>169</td>\n",
       "      <td>82.0</td>\n",
       "      <td>150</td>\n",
       "      <td>100</td>\n",
       "      <td>1</td>\n",
       "      <td>1</td>\n",
       "      <td>0</td>\n",
       "      <td>0</td>\n",
       "      <td>1</td>\n",
       "      <td>1</td>\n",
       "    </tr>\n",
       "    <tr>\n",
       "      <th>4</th>\n",
       "      <td>4</td>\n",
       "      <td>17474</td>\n",
       "      <td>1</td>\n",
       "      <td>156</td>\n",
       "      <td>56.0</td>\n",
       "      <td>100</td>\n",
       "      <td>60</td>\n",
       "      <td>1</td>\n",
       "      <td>1</td>\n",
       "      <td>0</td>\n",
       "      <td>0</td>\n",
       "      <td>0</td>\n",
       "      <td>0</td>\n",
       "    </tr>\n",
       "  </tbody>\n",
       "</table>\n",
       "</div>"
      ],
      "text/plain": [
       "   id    age  gender  height  weight  ap_hi  ap_lo  cholesterol  gluc  smoke  \\\n",
       "0   0  18393       2     168    62.0    110     80            1     1      0   \n",
       "1   1  20228       1     156    85.0    140     90            3     1      0   \n",
       "2   2  18857       1     165    64.0    130     70            3     1      0   \n",
       "3   3  17623       2     169    82.0    150    100            1     1      0   \n",
       "4   4  17474       1     156    56.0    100     60            1     1      0   \n",
       "\n",
       "   alco  active  cardio  \n",
       "0     0       1       0  \n",
       "1     0       1       1  \n",
       "2     0       0       1  \n",
       "3     0       1       1  \n",
       "4     0       0       0  "
      ]
     },
     "execution_count": 3,
     "metadata": {},
     "output_type": "execute_result"
    }
   ],
   "source": [
    "df.head()"
   ]
  },
  {
   "cell_type": "code",
   "execution_count": 4,
   "id": "61aeeb78",
   "metadata": {},
   "outputs": [
    {
     "name": "stdout",
     "output_type": "stream",
     "text": [
      "(66500, 19) (3500, 19) (66500,) (3500,)\n"
     ]
    }
   ],
   "source": [
    "#preprocessing\n",
    "\n",
    "#dropping id due to high cardinality\n",
    "df.drop('id', axis=1, inplace=True)\n",
    "\n",
    "#columns to apply standard scale on = ['age', 'height','weight','ap_hi','ap_lo']\n",
    "\n",
    "col_names = ['age', 'height','weight','ap_hi','ap_lo']\n",
    "\n",
    "from sklearn.compose import ColumnTransformer\n",
    "from sklearn.preprocessing import StandardScaler\n",
    "\n",
    "for column in col_names:\n",
    "    ct = ColumnTransformer([\n",
    "            ('somename', StandardScaler(), [column])\n",
    "        ], remainder='passthrough')\n",
    "\n",
    "    df[column]=ct.fit_transform(df[[column]])\n",
    "\n",
    "#initalize X with our DataFrame - the label we want to predict\n",
    "X = df.drop('cardio',axis=1)\n",
    "\n",
    "# assigning the target label to y \n",
    "y = df['cardio'] \n",
    "\n",
    "### one-hot encoding our categorical columns\n",
    "# columns not to transform\n",
    "not_cols = ['age', 'height','weight','ap_hi','ap_lo']\n",
    "\n",
    "X = pd.get_dummies(data=X, columns=[col for col in X.columns if col not in not_cols])\n",
    "\n",
    "X_train, X_test, y_train,y_test = train_test_split(X, y, test_size=0.05)\n",
    "\n",
    "print(X_train.shape,X_test.shape,y_train.shape,y_test.shape)\n"
   ]
  },
  {
   "cell_type": "code",
   "execution_count": 5,
   "id": "e6185732",
   "metadata": {},
   "outputs": [
    {
     "data": {
      "text/html": [
       "<div>\n",
       "<style scoped>\n",
       "    .dataframe tbody tr th:only-of-type {\n",
       "        vertical-align: middle;\n",
       "    }\n",
       "\n",
       "    .dataframe tbody tr th {\n",
       "        vertical-align: top;\n",
       "    }\n",
       "\n",
       "    .dataframe thead th {\n",
       "        text-align: right;\n",
       "    }\n",
       "</style>\n",
       "<table border=\"1\" class=\"dataframe\">\n",
       "  <thead>\n",
       "    <tr style=\"text-align: right;\">\n",
       "      <th></th>\n",
       "      <th>age</th>\n",
       "      <th>height</th>\n",
       "      <th>weight</th>\n",
       "      <th>ap_hi</th>\n",
       "      <th>ap_lo</th>\n",
       "      <th>gender_1</th>\n",
       "      <th>gender_2</th>\n",
       "      <th>cholesterol_1</th>\n",
       "      <th>cholesterol_2</th>\n",
       "      <th>cholesterol_3</th>\n",
       "      <th>gluc_1</th>\n",
       "      <th>gluc_2</th>\n",
       "      <th>gluc_3</th>\n",
       "      <th>smoke_0</th>\n",
       "      <th>smoke_1</th>\n",
       "      <th>alco_0</th>\n",
       "      <th>alco_1</th>\n",
       "      <th>active_0</th>\n",
       "      <th>active_1</th>\n",
       "    </tr>\n",
       "  </thead>\n",
       "  <tbody>\n",
       "    <tr>\n",
       "      <th>8475</th>\n",
       "      <td>0.172312</td>\n",
       "      <td>0.078047</td>\n",
       "      <td>-0.708942</td>\n",
       "      <td>-0.057251</td>\n",
       "      <td>-0.088238</td>\n",
       "      <td>1</td>\n",
       "      <td>0</td>\n",
       "      <td>1</td>\n",
       "      <td>0</td>\n",
       "      <td>0</td>\n",
       "      <td>1</td>\n",
       "      <td>0</td>\n",
       "      <td>0</td>\n",
       "      <td>1</td>\n",
       "      <td>0</td>\n",
       "      <td>1</td>\n",
       "      <td>0</td>\n",
       "      <td>0</td>\n",
       "      <td>1</td>\n",
       "    </tr>\n",
       "    <tr>\n",
       "      <th>43453</th>\n",
       "      <td>1.498088</td>\n",
       "      <td>0.199849</td>\n",
       "      <td>0.194108</td>\n",
       "      <td>-0.057251</td>\n",
       "      <td>-0.141297</td>\n",
       "      <td>0</td>\n",
       "      <td>1</td>\n",
       "      <td>1</td>\n",
       "      <td>0</td>\n",
       "      <td>0</td>\n",
       "      <td>1</td>\n",
       "      <td>0</td>\n",
       "      <td>0</td>\n",
       "      <td>1</td>\n",
       "      <td>0</td>\n",
       "      <td>0</td>\n",
       "      <td>1</td>\n",
       "      <td>0</td>\n",
       "      <td>1</td>\n",
       "    </tr>\n",
       "    <tr>\n",
       "      <th>33950</th>\n",
       "      <td>-0.793952</td>\n",
       "      <td>0.078047</td>\n",
       "      <td>-0.639477</td>\n",
       "      <td>-0.057251</td>\n",
       "      <td>-0.088238</td>\n",
       "      <td>1</td>\n",
       "      <td>0</td>\n",
       "      <td>1</td>\n",
       "      <td>0</td>\n",
       "      <td>0</td>\n",
       "      <td>1</td>\n",
       "      <td>0</td>\n",
       "      <td>0</td>\n",
       "      <td>1</td>\n",
       "      <td>0</td>\n",
       "      <td>1</td>\n",
       "      <td>0</td>\n",
       "      <td>0</td>\n",
       "      <td>1</td>\n",
       "    </tr>\n",
       "    <tr>\n",
       "      <th>59329</th>\n",
       "      <td>-1.101179</td>\n",
       "      <td>0.321650</td>\n",
       "      <td>-0.639477</td>\n",
       "      <td>0.007679</td>\n",
       "      <td>-0.141297</td>\n",
       "      <td>0</td>\n",
       "      <td>1</td>\n",
       "      <td>1</td>\n",
       "      <td>0</td>\n",
       "      <td>0</td>\n",
       "      <td>1</td>\n",
       "      <td>0</td>\n",
       "      <td>0</td>\n",
       "      <td>0</td>\n",
       "      <td>1</td>\n",
       "      <td>1</td>\n",
       "      <td>0</td>\n",
       "      <td>0</td>\n",
       "      <td>1</td>\n",
       "    </tr>\n",
       "    <tr>\n",
       "      <th>31705</th>\n",
       "      <td>-0.147074</td>\n",
       "      <td>-1.018168</td>\n",
       "      <td>-0.014288</td>\n",
       "      <td>-0.057251</td>\n",
       "      <td>-0.141297</td>\n",
       "      <td>1</td>\n",
       "      <td>0</td>\n",
       "      <td>1</td>\n",
       "      <td>0</td>\n",
       "      <td>0</td>\n",
       "      <td>1</td>\n",
       "      <td>0</td>\n",
       "      <td>0</td>\n",
       "      <td>1</td>\n",
       "      <td>0</td>\n",
       "      <td>1</td>\n",
       "      <td>0</td>\n",
       "      <td>0</td>\n",
       "      <td>1</td>\n",
       "    </tr>\n",
       "  </tbody>\n",
       "</table>\n",
       "</div>"
      ],
      "text/plain": [
       "            age    height    weight     ap_hi     ap_lo  gender_1  gender_2  \\\n",
       "8475   0.172312  0.078047 -0.708942 -0.057251 -0.088238         1         0   \n",
       "43453  1.498088  0.199849  0.194108 -0.057251 -0.141297         0         1   \n",
       "33950 -0.793952  0.078047 -0.639477 -0.057251 -0.088238         1         0   \n",
       "59329 -1.101179  0.321650 -0.639477  0.007679 -0.141297         0         1   \n",
       "31705 -0.147074 -1.018168 -0.014288 -0.057251 -0.141297         1         0   \n",
       "\n",
       "       cholesterol_1  cholesterol_2  cholesterol_3  gluc_1  gluc_2  gluc_3  \\\n",
       "8475               1              0              0       1       0       0   \n",
       "43453              1              0              0       1       0       0   \n",
       "33950              1              0              0       1       0       0   \n",
       "59329              1              0              0       1       0       0   \n",
       "31705              1              0              0       1       0       0   \n",
       "\n",
       "       smoke_0  smoke_1  alco_0  alco_1  active_0  active_1  \n",
       "8475         1        0       1       0         0         1  \n",
       "43453        1        0       0       1         0         1  \n",
       "33950        1        0       1       0         0         1  \n",
       "59329        0        1       1       0         0         1  \n",
       "31705        1        0       1       0         0         1  "
      ]
     },
     "execution_count": 5,
     "metadata": {},
     "output_type": "execute_result"
    }
   ],
   "source": [
    "X_train.head()\n"
   ]
  },
  {
   "cell_type": "code",
   "execution_count": 20,
   "id": "9b08ed4a",
   "metadata": {},
   "outputs": [
    {
     "data": {
      "image/png": "[encoded data removed]",
      "text/plain": [
       "<Figure size 720x504 with 1 Axes>"
      ]
     },
     "metadata": {
      "needs_background": "light"
     },
     "output_type": "display_data"
    }
   ],
   "source": [
    "import matplotlib.pyplot as plt\n",
    "import numpy as np\n",
    " \n",
    "# Creating dataset\n",
    "fig = plt.figure(figsize =(10, 7))\n",
    " \n",
    "# Creating plot\n",
    "plt.boxplot(X_train)\n",
    " \n",
    "# show plot\n",
    "plt.show()"
   ]
  },
  {
   "cell_type": "code",
   "execution_count": 6,
   "id": "40391325",
   "metadata": {},
   "outputs": [],
   "source": [
    "from tensorflow.keras.models import Sequential, load_model\n",
    "from tensorflow.keras.layers import Dense\n",
    "from sklearn.metrics import accuracy_score"
   ]
  },
  {
   "cell_type": "code",
   "execution_count": 7,
   "id": "1e75f1e9",
   "metadata": {},
   "outputs": [],
   "source": [
    "model = Sequential()\n",
    "\n",
    "model.add(Dense(units=16, activation='relu', input_dim=X_train.shape[1]))\n",
    "model.add(Dense(units=32, activation='relu'))\n",
    "model.add(Dense(units=64, activation='relu'))\n",
    "model.add(Dense(units=32, activation='relu'))\n",
    "model.add(Dense(units=16, activation='relu'))\n",
    "\n",
    "model.add(Dense(units=1, activation='sigmoid'))\n",
    "\n"
   ]
  },
  {
   "cell_type": "code",
   "execution_count": 8,
   "id": "e30826e7",
   "metadata": {},
   "outputs": [
    {
     "name": "stdout",
     "output_type": "stream",
     "text": [
      "Model: \"sequential\"\n",
      "_________________________________________________________________\n",
      " Layer (type)                Output Shape              Param #   \n",
      "=================================================================\n",
      " dense (Dense)               (None, 16)                320       \n",
      "                                                                 \n",
      " dense_1 (Dense)             (None, 32)                544       \n",
      "                                                                 \n",
      " dense_2 (Dense)             (None, 64)                2112      \n",
      "                                                                 \n",
      " dense_3 (Dense)             (None, 32)                2080      \n",
      "                                                                 \n",
      " dense_4 (Dense)             (None, 16)                528       \n",
      "                                                                 \n",
      " dense_5 (Dense)             (None, 1)                 17        \n",
      "                                                                 \n",
      "=================================================================\n",
      "Total params: 5,601\n",
      "Trainable params: 5,601\n",
      "Non-trainable params: 0\n",
      "_________________________________________________________________\n"
     ]
    }
   ],
   "source": [
    "model.summary()"
   ]
  },
  {
   "cell_type": "code",
   "execution_count": 9,
   "id": "7f2f8289",
   "metadata": {},
   "outputs": [],
   "source": [
    "model.compile(loss='binary_crossentropy', optimizer='sgd', metrics= 'accuracy')"
   ]
  },
  {
   "cell_type": "code",
   "execution_count": 10,
   "id": "60b0301c",
   "metadata": {
    "scrolled": true
   },
   "outputs": [
    {
     "name": "stdout",
     "output_type": "stream",
     "text": [
      "Epoch 1/25\n",
      "2079/2079 [==============================] - 9s 4ms/step - loss: 0.6552 - accuracy: 0.6238\n",
      "Epoch 2/25\n",
      "2079/2079 [==============================] - 9s 4ms/step - loss: 0.6297 - accuracy: 0.6544\n",
      "Epoch 3/25\n",
      "2079/2079 [==============================] - 9s 4ms/step - loss: 0.6065 - accuracy: 0.6808\n",
      "Epoch 4/25\n",
      "2079/2079 [==============================] - 9s 4ms/step - loss: 0.5744 - accuracy: 0.7163\n",
      "Epoch 5/25\n",
      "2079/2079 [==============================] - 8s 4ms/step - loss: 0.5635 - accuracy: 0.7244\n",
      "Epoch 6/25\n",
      "2079/2079 [==============================] - 10s 5ms/step - loss: 0.5584 - accuracy: 0.7276\n",
      "Epoch 7/25\n",
      "2079/2079 [==============================] - 10s 5ms/step - loss: 0.5555 - accuracy: 0.7294\n",
      "Epoch 8/25\n",
      "2079/2079 [==============================] - 10s 5ms/step - loss: 0.5528 - accuracy: 0.7310\n",
      "Epoch 9/25\n",
      "2079/2079 [==============================] - 11s 5ms/step - loss: 0.5502 - accuracy: 0.7322\n",
      "Epoch 10/25\n",
      "2079/2079 [==============================] - 9s 4ms/step - loss: 0.5489 - accuracy: 0.7323\n",
      "Epoch 11/25\n",
      "2079/2079 [==============================] - 9s 4ms/step - loss: 0.5477 - accuracy: 0.7327\n",
      "Epoch 12/25\n",
      "2079/2079 [==============================] - 9s 4ms/step - loss: 0.5462 - accuracy: 0.7337\n",
      "Epoch 13/25\n",
      "2079/2079 [==============================] - 9s 4ms/step - loss: 0.5452 - accuracy: 0.7342\n",
      "Epoch 14/25\n",
      "2079/2079 [==============================] - 9s 4ms/step - loss: 0.5444 - accuracy: 0.7345\n",
      "Epoch 15/25\n",
      "2079/2079 [==============================] - 9s 4ms/step - loss: 0.5438 - accuracy: 0.7340\n",
      "Epoch 16/25\n",
      "2079/2079 [==============================] - 9s 4ms/step - loss: 0.5436 - accuracy: 0.7346\n",
      "Epoch 17/25\n",
      "2079/2079 [==============================] - 9s 4ms/step - loss: 0.5429 - accuracy: 0.7351\n",
      "Epoch 18/25\n",
      "2079/2079 [==============================] - 9s 4ms/step - loss: 0.5428 - accuracy: 0.7339\n",
      "Epoch 19/25\n",
      "2079/2079 [==============================] - 9s 4ms/step - loss: 0.5427 - accuracy: 0.7342\n",
      "Epoch 20/25\n",
      "2079/2079 [==============================] - 9s 4ms/step - loss: 0.5420 - accuracy: 0.7357\n",
      "Epoch 21/25\n",
      "2079/2079 [==============================] - 9s 4ms/step - loss: 0.5421 - accuracy: 0.7349\n",
      "Epoch 22/25\n",
      "2079/2079 [==============================] - 11s 5ms/step - loss: 0.5417 - accuracy: 0.7355\n",
      "Epoch 23/25\n",
      "2079/2079 [==============================] - 11s 5ms/step - loss: 0.5418 - accuracy: 0.7360\n",
      "Epoch 24/25\n",
      "2079/2079 [==============================] - 11s 5ms/step - loss: 0.5415 - accuracy: 0.7347\n",
      "Epoch 25/25\n",
      "2079/2079 [==============================] - 10s 5ms/step - loss: 0.5413 - accuracy: 0.7345\n"
     ]
    },
    {
     "data": {
      "text/plain": [
       "<keras.callbacks.History at 0x210887677f0>"
      ]
     },
     "execution_count": 10,
     "metadata": {},
     "output_type": "execute_result"
    }
   ],
   "source": [
    "model.fit(X_train,y_train, epochs=25, batch_size=32)"
   ]
  },
  {
   "cell_type": "code",
   "execution_count": 11,
   "id": "2aff115b",
   "metadata": {},
   "outputs": [
    {
     "name": "stdout",
     "output_type": "stream",
     "text": [
      "110/110 [==============================] - 0s 1ms/step\n"
     ]
    }
   ],
   "source": [
    "y_hat=model.predict(X_test)\n",
    "y_hat=[0 if val<0.5 else 1 for val in y_hat]"
   ]
  },
  {
   "cell_type": "code",
   "execution_count": 12,
   "id": "8211fa77",
   "metadata": {},
   "outputs": [
    {
     "data": {
      "text/plain": [
       "0.7188571428571429"
      ]
     },
     "execution_count": 12,
     "metadata": {},
     "output_type": "execute_result"
    }
   ],
   "source": [
    "accuracy_score(y_test,y_hat)"
   ]
  },
  {
   "cell_type": "code",
   "execution_count": 13,
   "id": "62675ab8",
   "metadata": {},
   "outputs": [],
   "source": [
    "#model.save('<nameoffolder>')\n",
    "#model.load('<nameofmodel>')"
   ]
  },
  {
   "cell_type": "code",
   "execution_count": 14,
   "id": "006f22f8",
   "metadata": {},
   "outputs": [
    {
     "name": "stdout",
     "output_type": "stream",
     "text": [
      "110/110 [==============================] - 0s 3ms/step - loss: 0.5634 - accuracy: 0.7189\n"
     ]
    },
    {
     "data": {
      "text/plain": [
       "[0.5634348392486572, 0.7188571691513062]"
      ]
     },
     "execution_count": 14,
     "metadata": {},
     "output_type": "execute_result"
    }
   ],
   "source": [
    "model.evaluate(X_test,y_test)"
   ]
  },
  {
   "cell_type": "code",
   "execution_count": 15,
   "id": "150f1b87",
   "metadata": {},
   "outputs": [
    {
     "ename": "TypeError",
     "evalue": "'Sequential' object is not subscriptable",
     "output_type": "error",
     "traceback": [
      "\u001b[1;31m---------------------------------------------------------------------------\u001b[0m",
      "\u001b[1;31mTypeError\u001b[0m                                 Traceback (most recent call last)",
      "\u001b[1;32m~\\AppData\\Local\\Temp/ipykernel_18492/2938768347.py\u001b[0m in \u001b[0;36m<module>\u001b[1;34m\u001b[0m\n\u001b[0;32m      1\u001b[0m \u001b[1;32mimport\u001b[0m \u001b[0mmatplotlib\u001b[0m\u001b[1;33m.\u001b[0m\u001b[0mpyplot\u001b[0m \u001b[1;32mas\u001b[0m \u001b[0mplt\u001b[0m\u001b[1;33m\u001b[0m\u001b[1;33m\u001b[0m\u001b[0m\n\u001b[0;32m      2\u001b[0m \u001b[1;33m\u001b[0m\u001b[0m\n\u001b[1;32m----> 3\u001b[1;33m \u001b[0maccuracy\u001b[0m \u001b[1;33m=\u001b[0m \u001b[0mmodel\u001b[0m\u001b[1;33m[\u001b[0m\u001b[1;34m'accuracy'\u001b[0m\u001b[1;33m]\u001b[0m\u001b[1;33m\u001b[0m\u001b[1;33m\u001b[0m\u001b[0m\n\u001b[0m\u001b[0;32m      4\u001b[0m \u001b[0mloss\u001b[0m \u001b[1;33m=\u001b[0m \u001b[0mmodel\u001b[0m\u001b[1;33m[\u001b[0m\u001b[1;34m'loss'\u001b[0m\u001b[1;33m]\u001b[0m\u001b[1;33m\u001b[0m\u001b[1;33m\u001b[0m\u001b[0m\n\u001b[0;32m      5\u001b[0m \u001b[1;33m\u001b[0m\u001b[0m\n",
      "\u001b[1;31mTypeError\u001b[0m: 'Sequential' object is not subscriptable"
     ]
    }
   ],
   "source": [
    "import matplotlib.pyplot as plt\n",
    "\n",
    "accuracy = model['accuracy']\n",
    "loss = model['loss']\n",
    "\n",
    "epochs= range(len(accuracy))\n",
    "\n",
    "plt.plot(epochs,accuracy)\n",
    "plt.plot(epochs, loss)\n",
    "#https://www.youtube.com/watch?v=LXc6LpFWCEQ&ab_channel=AKPython"
   ]
  }
 ],
 "metadata": {
  "kernelspec": {
   "display_name": "Python 3 (ipykernel)",
   "language": "python",
   "name": "python3"
  },
  "language_info": {
   "codemirror_mode": {
    "name": "ipython",
    "version": 3
   },
   "file_extension": ".py",
   "mimetype": "text/x-python",
   "name": "python",
   "nbconvert_exporter": "python",
   "pygments_lexer": "ipython3",
   "version": "3.9.7"
  }
 },
 "nbformat": 4,
 "nbformat_minor": 5
}
